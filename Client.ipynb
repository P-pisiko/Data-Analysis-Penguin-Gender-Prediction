{
 "cells": [
  {
   "cell_type": "code",
   "execution_count": 6,
   "metadata": {},
   "outputs": [],
   "source": [
    "import requests"
   ]
  },
  {
   "cell_type": "code",
   "execution_count": 11,
   "metadata": {},
   "outputs": [
    {
     "name": "stdout",
     "output_type": "stream",
     "text": [
      "{'species': 0.0, 'bill_length_mm': 39.1, 'bill_depth_mm': 18.7, 'flipper_length_mm': 181.0, 'body_mass_g': 3750.0}\n"
     ]
    }
   ],
   "source": [
    "sample = requests.get(\"http://127.0.0.1:5000/penguin/sample\")\n",
    "print(sample.json())"
   ]
  },
  {
   "cell_type": "markdown",
   "metadata": {},
   "source": [
    "<h2 style=\"color:red;\">Getting the sample data from the server </h2>"
   ]
  },
  {
   "cell_type": "code",
   "execution_count": 12,
   "metadata": {},
   "outputs": [
    {
     "name": "stdout",
     "output_type": "stream",
     "text": [
      "{\n",
      "    \"bill_depth_mm\": 18.7,\n",
      "    \"bill_length_mm\": 39.1,\n",
      "    \"body_mass_g\": 3750.0,\n",
      "    \"flipper_length_mm\": 181.0,\n",
      "    \"species\": 0.0\n",
      "}\n"
     ]
    }
   ],
   "source": [
    "import json\n",
    "\n",
    "def jprint(obj):\n",
    "    #Create a formatted sting of objects\n",
    "    text = json.dumps(obj, sort_keys=True, indent=4)\n",
    "    print(text)\n",
    "\n",
    "\n",
    "jprint(sample.json())"
   ]
  },
  {
   "cell_type": "markdown",
   "metadata": {},
   "source": [
    "<h2 style=\"color:red;\">Eplaning the paramethers we are sending to the servers to make a prediction </h2>"
   ]
  },
  {
   "cell_type": "code",
   "execution_count": 30,
   "metadata": {},
   "outputs": [
    {
     "name": "stdout",
     "output_type": "stream",
     "text": [
      "{\n",
      "    \"bill_depth_mm\": \"DVAR value between 13.1 and 21.5\",\n",
      "    \"bill_length_mm\": \"DVAR value between 32.1 and 50.6\",\n",
      "    \"body_mass_g\": \"DVAR value between 2700.0 and 6300.0\",\n",
      "    \"flipper_length_mm\": \"DVAR value between 172.0 and 231.0\",\n",
      "    \"sex\": \"Sex is in the order of 0,1 representing Male,Female\",\n",
      "    \"species\": \"Species are in the order of 0,1,2 representing Adelie,Chinstrap,Gentoo\"\n",
      "}\n"
     ]
    }
   ],
   "source": [
    "explain = requests.get(\"http://127.0.0.1:5000/penguin/explain\")\n",
    "jprint(explain.json())"
   ]
  },
  {
   "cell_type": "code",
   "execution_count": 24,
   "metadata": {},
   "outputs": [
    {
     "name": "stdout",
     "output_type": "stream",
     "text": [
      "{\n",
      "    \"sex\": \"Female\"\n",
      "}\n"
     ]
    }
   ],
   "source": [
    "predict = {'species': 3.0, 'bill_length_mm': 38.1, 'bill_depth_mm': 20.7, 'flipper_length_mm': 151.0, 'body_mass_g': 3650.0}\n",
    "response = requests.post(\"http://127.0.0.1:5000/penguin/evaluate\", json=predict)\n",
    "jprint(response.json())"
   ]
  },
  {
   "cell_type": "code",
   "execution_count": 31,
   "metadata": {},
   "outputs": [
    {
     "name": "stdout",
     "output_type": "stream",
     "text": [
      "{\n",
      "    \"sex\": \"Male\"\n",
      "}\n"
     ]
    }
   ],
   "source": [
    "predict = {'species': 1.0, 'bill_length_mm': 38.1, 'bill_depth_mm': 20.7, 'flipper_length_mm': 151.0, 'body_mass_g': 3650.0}\n",
    "response = requests.post(\"http://127.0.0.1:5000/penguin/evaluate\", json=predict)\n",
    "jprint(response.json())"
   ]
  },
  {
   "cell_type": "code",
   "execution_count": 34,
   "metadata": {},
   "outputs": [
    {
     "name": "stdout",
     "output_type": "stream",
     "text": [
      "{\n",
      "    \"sex\": \"Female\"\n",
      "}\n"
     ]
    }
   ],
   "source": [
    "predict = {'species': 2.0, 'bill_length_mm': 30.1, 'bill_depth_mm': 16.7, 'flipper_length_mm': 180.0, 'body_mass_g': 3950.0}\n",
    "response = requests.post(\"http://127.0.0.1:5000/penguin/evaluate\", json=predict)\n",
    "jprint(response.json())"
   ]
  },
  {
   "cell_type": "code",
   "execution_count": 35,
   "metadata": {},
   "outputs": [
    {
     "name": "stdout",
     "output_type": "stream",
     "text": [
      "{\n",
      "    \"sex\": \"Male\"\n",
      "}\n"
     ]
    }
   ],
   "source": [
    "predict = {'species': 0.0, 'bill_length_mm': 37.7, 'bill_depth_mm': 21.1, 'flipper_length_mm': 220.0, 'body_mass_g': 5000.0}\n",
    "response = requests.post(\"http://127.0.0.1:5000/penguin/evaluate\", json=predict)\n",
    "jprint(response.json())"
   ]
  },
  {
   "cell_type": "code",
   "execution_count": 36,
   "metadata": {},
   "outputs": [
    {
     "name": "stdout",
     "output_type": "stream",
     "text": [
      "{\n",
      "    \"sex\": \"Male\"\n",
      "}\n"
     ]
    }
   ],
   "source": [
    "predict = {'species': 1.0, 'bill_length_mm': 50.1, 'bill_depth_mm': 15.7, 'flipper_length_mm': 195.0, 'body_mass_g': 6143.0}\n",
    "response = requests.post(\"http://127.0.0.1:5000/penguin/evaluate\", json=predict)\n",
    "jprint(response.json())"
   ]
  }
 ],
 "metadata": {
  "kernelspec": {
   "display_name": "base",
   "language": "python",
   "name": "python3"
  },
  "language_info": {
   "codemirror_mode": {
    "name": "ipython",
    "version": 3
   },
   "file_extension": ".py",
   "mimetype": "text/x-python",
   "name": "python",
   "nbconvert_exporter": "python",
   "pygments_lexer": "ipython3",
   "version": "3.12.4"
  }
 },
 "nbformat": 4,
 "nbformat_minor": 2
}
